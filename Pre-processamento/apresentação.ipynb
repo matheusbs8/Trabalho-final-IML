{
 "cells": [
  {
   "cell_type": "code",
   "execution_count": 29,
   "metadata": {},
   "outputs": [
    {
     "data": {
      "text/html": [
       "<div>\n",
       "<style scoped>\n",
       "    .dataframe tbody tr th:only-of-type {\n",
       "        vertical-align: middle;\n",
       "    }\n",
       "\n",
       "    .dataframe tbody tr th {\n",
       "        vertical-align: top;\n",
       "    }\n",
       "\n",
       "    .dataframe thead th {\n",
       "        text-align: right;\n",
       "    }\n",
       "</style>\n",
       "<table border=\"1\" class=\"dataframe\">\n",
       "  <thead>\n",
       "    <tr style=\"text-align: right;\">\n",
       "      <th></th>\n",
       "      <th>age</th>\n",
       "      <th>sex</th>\n",
       "      <th>chest_pain_type</th>\n",
       "      <th>resting_bp</th>\n",
       "      <th>cholestoral</th>\n",
       "      <th>fasting_blood_sugar</th>\n",
       "      <th>restecg</th>\n",
       "      <th>max_hr</th>\n",
       "      <th>exang</th>\n",
       "      <th>oldpeak</th>\n",
       "      <th>slope</th>\n",
       "      <th>num_major_vessels</th>\n",
       "      <th>thal</th>\n",
       "      <th>target</th>\n",
       "    </tr>\n",
       "  </thead>\n",
       "  <tbody>\n",
       "    <tr>\n",
       "      <th>0</th>\n",
       "      <td>63</td>\n",
       "      <td>1</td>\n",
       "      <td>3</td>\n",
       "      <td>145</td>\n",
       "      <td>233</td>\n",
       "      <td>1</td>\n",
       "      <td>0</td>\n",
       "      <td>150</td>\n",
       "      <td>0</td>\n",
       "      <td>2.3</td>\n",
       "      <td>0</td>\n",
       "      <td>0</td>\n",
       "      <td>1</td>\n",
       "      <td>1</td>\n",
       "    </tr>\n",
       "    <tr>\n",
       "      <th>1</th>\n",
       "      <td>37</td>\n",
       "      <td>1</td>\n",
       "      <td>2</td>\n",
       "      <td>130</td>\n",
       "      <td>250</td>\n",
       "      <td>0</td>\n",
       "      <td>1</td>\n",
       "      <td>187</td>\n",
       "      <td>0</td>\n",
       "      <td>3.5</td>\n",
       "      <td>0</td>\n",
       "      <td>0</td>\n",
       "      <td>2</td>\n",
       "      <td>1</td>\n",
       "    </tr>\n",
       "    <tr>\n",
       "      <th>2</th>\n",
       "      <td>41</td>\n",
       "      <td>0</td>\n",
       "      <td>1</td>\n",
       "      <td>130</td>\n",
       "      <td>204</td>\n",
       "      <td>0</td>\n",
       "      <td>0</td>\n",
       "      <td>172</td>\n",
       "      <td>0</td>\n",
       "      <td>1.4</td>\n",
       "      <td>2</td>\n",
       "      <td>0</td>\n",
       "      <td>2</td>\n",
       "      <td>1</td>\n",
       "    </tr>\n",
       "    <tr>\n",
       "      <th>3</th>\n",
       "      <td>56</td>\n",
       "      <td>1</td>\n",
       "      <td>1</td>\n",
       "      <td>120</td>\n",
       "      <td>236</td>\n",
       "      <td>0</td>\n",
       "      <td>1</td>\n",
       "      <td>178</td>\n",
       "      <td>0</td>\n",
       "      <td>0.8</td>\n",
       "      <td>2</td>\n",
       "      <td>0</td>\n",
       "      <td>2</td>\n",
       "      <td>1</td>\n",
       "    </tr>\n",
       "    <tr>\n",
       "      <th>4</th>\n",
       "      <td>57</td>\n",
       "      <td>0</td>\n",
       "      <td>0</td>\n",
       "      <td>120</td>\n",
       "      <td>354</td>\n",
       "      <td>0</td>\n",
       "      <td>1</td>\n",
       "      <td>163</td>\n",
       "      <td>1</td>\n",
       "      <td>0.6</td>\n",
       "      <td>2</td>\n",
       "      <td>0</td>\n",
       "      <td>2</td>\n",
       "      <td>1</td>\n",
       "    </tr>\n",
       "  </tbody>\n",
       "</table>\n",
       "</div>"
      ],
      "text/plain": [
       "   age  sex  chest_pain_type  resting_bp  cholestoral  fasting_blood_sugar  \\\n",
       "0   63    1                3         145          233                    1   \n",
       "1   37    1                2         130          250                    0   \n",
       "2   41    0                1         130          204                    0   \n",
       "3   56    1                1         120          236                    0   \n",
       "4   57    0                0         120          354                    0   \n",
       "\n",
       "   restecg  max_hr  exang  oldpeak  slope  num_major_vessels  thal  target  \n",
       "0        0     150      0      2.3      0                  0     1       1  \n",
       "1        1     187      0      3.5      0                  0     2       1  \n",
       "2        0     172      0      1.4      2                  0     2       1  \n",
       "3        1     178      0      0.8      2                  0     2       1  \n",
       "4        1     163      1      0.6      2                  0     2       1  "
      ]
     },
     "execution_count": 29,
     "metadata": {},
     "output_type": "execute_result"
    }
   ],
   "source": [
    "import pandas as pd\n",
    "import matplotlib.pyplot as plt\n",
    "import seaborn as sns\n",
    "import numpy as np\n",
    "from scipy import stats\n",
    "\n",
    "# Carregar o conjunto de dados\n",
    "df = pd.read_csv('../base_de_dados/heart.csv')\n",
    "\n",
    "df.head()\n",
    "\n"
   ]
  },
  {
   "cell_type": "code",
   "execution_count": 30,
   "metadata": {},
   "outputs": [
    {
     "data": {
      "text/plain": [
       "age                      int64\n",
       "sex                      int64\n",
       "chest_pain_type          int64\n",
       "resting_bp               int64\n",
       "cholestoral              int64\n",
       "fasting_blood_sugar      int64\n",
       "restecg                  int64\n",
       "max_hr                   int64\n",
       "exang                    int64\n",
       "oldpeak                float64\n",
       "slope                    int64\n",
       "num_major_vessels        int64\n",
       "thal                     int64\n",
       "target                   int64\n",
       "dtype: object"
      ]
     },
     "execution_count": 30,
     "metadata": {},
     "output_type": "execute_result"
    }
   ],
   "source": [
    "# Tipos de dados\n",
    "df.dtypes"
   ]
  },
  {
   "cell_type": "code",
   "execution_count": 31,
   "metadata": {},
   "outputs": [
    {
     "data": {
      "image/png": "[encoded data removed]",
      "text/plain": [
       "<Figure size 1008x720 with 16 Axes>"
      ]
     },
     "metadata": {
      "needs_background": "light"
     },
     "output_type": "display_data"
    }
   ],
   "source": [
    "# Verificar a distribuição das variáveis\n",
    "df.hist(bins=20, figsize=(14, 10))\n",
    "plt.show()"
   ]
  },
  {
   "cell_type": "markdown",
   "metadata": {},
   "source": [
    "## Avaliando os atributos utilizando as medidas de posição"
   ]
  },
  {
   "cell_type": "code",
   "execution_count": 32,
   "metadata": {},
   "outputs": [
    {
     "name": "stdout",
     "output_type": "stream",
     "text": [
      "Atributo: age\n",
      "Média Simples:  54.366336633663366\n",
      "Mediana:  55.0\n",
      "Moda - Elemento:  58\n",
      "Moda - Frequência:  19\n",
      "_________________________________________________________\n",
      "Primeiro quartil:  47.5\n",
      "Segundo quartil:  55.0\n",
      "Terceiro quartil:  61.0\n",
      "Intervalo iterquartílico:  13.5\n",
      "Variância:  82.48455838961378\n",
      "Desvio Padrão:  9.082100989837857\n",
      "Limite Inferior: 27.25\n",
      "Outliers Inferior\n",
      "Series([], Name: age, dtype: int64)\n",
      "Limite Superior: 81.25\n",
      "Outliers Superiores\n",
      "Series([], Name: age, dtype: int64)\n"
     ]
    },
    {
     "data": {
      "image/png": "[encoded data removed]",
      "text/plain": [
       "<Figure size 432x288 with 1 Axes>"
      ]
     },
     "metadata": {
      "needs_background": "light"
     },
     "output_type": "display_data"
    },
    {
     "name": "stdout",
     "output_type": "stream",
     "text": [
      "\n",
      "\n",
      "_________________________________________________________\n",
      "\n",
      "\n",
      "Atributo: sex\n",
      "Média Simples:  0.6831683168316832\n",
      "Mediana:  1.0\n",
      "Moda - Elemento:  1\n",
      "Moda - Frequência:  207\n",
      "_________________________________________________________\n",
      "Primeiro quartil:  0.0\n",
      "Segundo quartil:  1.0\n",
      "Terceiro quartil:  1.0\n",
      "Intervalo iterquartílico:  1.0\n",
      "Variância:  0.2171660874696741\n",
      "Desvio Padrão:  0.46601082333962385\n",
      "Limite Inferior: -1.5\n",
      "Outliers Inferior\n",
      "Series([], Name: sex, dtype: int64)\n",
      "Limite Superior: 2.5\n",
      "Outliers Superiores\n",
      "Series([], Name: sex, dtype: int64)\n"
     ]
    },
    {
     "data": {
      "image/png": "[encoded data removed]",
      "text/plain": [
       "<Figure size 432x288 with 1 Axes>"
      ]
     },
     "metadata": {
      "needs_background": "light"
     },
     "output_type": "display_data"
    },
    {
     "name": "stdout",
     "output_type": "stream",
     "text": [
      "\n",
      "\n",
      "_________________________________________________________\n",
      "\n",
      "\n",
      "Atributo: chest_pain_type\n",
      "Média Simples:  0.966996699669967\n",
      "Mediana:  1.0\n",
      "Moda - Elemento:  0\n",
      "Moda - Frequência:  143\n",
      "_________________________________________________________\n",
      "Primeiro quartil:  0.0\n",
      "Segundo quartil:  1.0\n",
      "Terceiro quartil:  2.0\n",
      "Intervalo iterquartílico:  2.0\n",
      "Variância:  1.0651323410486742\n",
      "Desvio Padrão:  1.0320524894832985\n",
      "Limite Inferior: -3.0\n",
      "Outliers Inferior\n",
      "Series([], Name: chest_pain_type, dtype: int64)\n",
      "Limite Superior: 5.0\n",
      "Outliers Superiores\n",
      "Series([], Name: chest_pain_type, dtype: int64)\n"
     ]
    },
    {
     "data": {
      "image/png": "[encoded data removed]",
      "text/plain": [
       "<Figure size 432x288 with 1 Axes>"
      ]
     },
     "metadata": {
      "needs_background": "light"
     },
     "output_type": "display_data"
    },
    {
     "name": "stdout",
     "output_type": "stream",
     "text": [
      "\n",
      "\n",
      "_________________________________________________________\n",
      "\n",
      "\n",
      "Atributo: resting_bp\n",
      "Média Simples:  131.62376237623764\n",
      "Mediana:  130.0\n",
      "Moda - Elemento:  120\n",
      "Moda - Frequência:  37\n",
      "_________________________________________________________\n",
      "Primeiro quartil:  120.0\n",
      "Segundo quartil:  130.0\n",
      "Terceiro quartil:  140.0\n",
      "Intervalo iterquartílico:  20.0\n",
      "Variância:  307.58645334732154\n",
      "Desvio Padrão:  17.5381428135171\n",
      "Limite Inferior: 90.0\n",
      "Outliers Inferior\n",
      "Series([], Name: resting_bp, dtype: int64)\n",
      "Limite Superior: 170.0\n",
      "Outliers Superiores\n",
      "8      172\n",
      "101    178\n",
      "110    180\n",
      "152    170\n",
      "195    170\n",
      "203    180\n",
      "223    200\n",
      "228    170\n",
      "241    174\n",
      "248    192\n",
      "260    178\n",
      "266    180\n",
      "292    170\n",
      "Name: resting_bp, dtype: int64\n"
     ]
    },
    {
     "data": {
      "image/png": "[encoded data removed]",
      "text/plain": [
       "<Figure size 432x288 with 1 Axes>"
      ]
     },
     "metadata": {
      "needs_background": "light"
     },
     "output_type": "display_data"
    },
    {
     "name": "stdout",
     "output_type": "stream",
     "text": [
      "\n",
      "\n",
      "_________________________________________________________\n",
      "\n",
      "\n",
      "Atributo: cholestoral\n",
      "Média Simples:  246.26402640264027\n",
      "Mediana:  240.0\n",
      "Moda - Elemento:  197\n",
      "Moda - Frequência:  6\n",
      "_________________________________________________________\n",
      "Primeiro quartil:  211.0\n",
      "Segundo quartil:  240.0\n",
      "Terceiro quartil:  274.5\n",
      "Intervalo iterquartílico:  63.5\n",
      "Variância:  2686.42674797281\n",
      "Desvio Padrão:  51.83075098793003\n",
      "Limite Inferior: 115.75\n",
      "Outliers Inferior\n",
      "Series([], Name: cholestoral, dtype: int64)\n",
      "Limite Superior: 369.75\n",
      "Outliers Superiores\n",
      "28     417\n",
      "85     564\n",
      "96     394\n",
      "220    407\n",
      "246    409\n",
      "Name: cholestoral, dtype: int64\n"
     ]
    },
    {
     "data": {
      "image/png": "[encoded data removed]",
      "text/plain": [
       "<Figure size 432x288 with 1 Axes>"
      ]
     },
     "metadata": {
      "needs_background": "light"
     },
     "output_type": "display_data"
    },
    {
     "name": "stdout",
     "output_type": "stream",
     "text": [
      "\n",
      "\n",
      "_________________________________________________________\n",
      "\n",
      "\n",
      "Atributo: fasting_blood_sugar\n",
      "Média Simples:  0.1485148514851485\n",
      "Mediana:  0.0\n",
      "Moda - Elemento:  0\n",
      "Moda - Frequência:  258\n",
      "_________________________________________________________\n",
      "Primeiro quartil:  0.0\n",
      "Segundo quartil:  0.0\n",
      "Terceiro quartil:  0.0\n",
      "Intervalo iterquartílico:  0.0\n",
      "Variância:  0.12687692610320636\n",
      "Desvio Padrão:  0.35619787492797644\n",
      "Limite Inferior: 0.0\n",
      "Outliers Inferior\n",
      "1      0\n",
      "2      0\n",
      "3      0\n",
      "4      0\n",
      "5      0\n",
      "      ..\n",
      "296    0\n",
      "298    0\n",
      "299    0\n",
      "301    0\n",
      "302    0\n",
      "Name: fasting_blood_sugar, Length: 258, dtype: int64\n",
      "Limite Superior: 0.0\n",
      "Outliers Superiores\n",
      "0      1\n",
      "1      0\n",
      "2      0\n",
      "3      0\n",
      "4      0\n",
      "      ..\n",
      "298    0\n",
      "299    0\n",
      "300    1\n",
      "301    0\n",
      "302    0\n",
      "Name: fasting_blood_sugar, Length: 303, dtype: int64\n"
     ]
    },
    {
     "data": {
      "image/png": "[encoded data removed]",
      "text/plain": [
       "<Figure size 432x288 with 1 Axes>"
      ]
     },
     "metadata": {
      "needs_background": "light"
     },
     "output_type": "display_data"
    },
    {
     "name": "stdout",
     "output_type": "stream",
     "text": [
      "\n",
      "\n",
      "_________________________________________________________\n",
      "\n",
      "\n",
      "Atributo: restecg\n",
      "Média Simples:  0.528052805280528\n",
      "Mediana:  1.0\n",
      "Moda - Elemento:  1\n",
      "Moda - Frequência:  152\n",
      "_________________________________________________________\n",
      "Primeiro quartil:  0.0\n",
      "Segundo quartil:  1.0\n",
      "Terceiro quartil:  1.0\n",
      "Intervalo iterquartílico:  1.0\n",
      "Variância:  0.2765283150831639\n",
      "Desvio Padrão:  0.525859596359298\n",
      "Limite Inferior: -1.5\n",
      "Outliers Inferior\n",
      "Series([], Name: restecg, dtype: int64)\n",
      "Limite Superior: 2.5\n",
      "Outliers Superiores\n",
      "Series([], Name: restecg, dtype: int64)\n"
     ]
    },
    {
     "data": {
      "image/png": "[encoded data removed]",
      "text/plain": [
       "<Figure size 432x288 with 1 Axes>"
      ]
     },
     "metadata": {
      "needs_background": "light"
     },
     "output_type": "display_data"
    },
    {
     "name": "stdout",
     "output_type": "stream",
     "text": [
      "\n",
      "\n",
      "_________________________________________________________\n",
      "\n",
      "\n",
      "Atributo: max_hr\n",
      "Média Simples:  149.64686468646866\n",
      "Mediana:  153.0\n",
      "Moda - Elemento:  162\n",
      "Moda - Frequência:  11\n",
      "_________________________________________________________\n",
      "Primeiro quartil:  133.5\n",
      "Segundo quartil:  153.0\n",
      "Terceiro quartil:  166.0\n",
      "Intervalo iterquartílico:  32.5\n",
      "Variância:  524.6464057001726\n",
      "Desvio Padrão:  22.905161114914094\n",
      "Limite Inferior: 84.75\n",
      "Outliers Inferior\n",
      "272    71\n",
      "Name: max_hr, dtype: int64\n",
      "Limite Superior: 214.75\n",
      "Outliers Superiores\n",
      "Series([], Name: max_hr, dtype: int64)\n"
     ]
    },
    {
     "data": {
      "image/png": "[encoded data removed]",
      "text/plain": [
       "<Figure size 432x288 with 1 Axes>"
      ]
     },
     "metadata": {
      "needs_background": "light"
     },
     "output_type": "display_data"
    },
    {
     "name": "stdout",
     "output_type": "stream",
     "text": [
      "\n",
      "\n",
      "_________________________________________________________\n",
      "\n",
      "\n",
      "Atributo: exang\n",
      "Média Simples:  0.32673267326732675\n",
      "Mediana:  0.0\n",
      "Moda - Elemento:  0\n",
      "Moda - Frequência:  204\n",
      "_________________________________________________________\n",
      "Primeiro quartil:  0.0\n",
      "Segundo quartil:  0.0\n",
      "Terceiro quartil:  1.0\n",
      "Intervalo iterquartílico:  1.0\n",
      "Variância:  0.22070683889581008\n",
      "Desvio Padrão:  0.4697944645223165\n",
      "Limite Inferior: -1.5\n",
      "Outliers Inferior\n",
      "Series([], Name: exang, dtype: int64)\n",
      "Limite Superior: 2.5\n",
      "Outliers Superiores\n",
      "Series([], Name: exang, dtype: int64)\n"
     ]
    },
    {
     "data": {
      "image/png": "[encoded data removed]",
      "text/plain": [
       "<Figure size 432x288 with 1 Axes>"
      ]
     },
     "metadata": {
      "needs_background": "light"
     },
     "output_type": "display_data"
    },
    {
     "name": "stdout",
     "output_type": "stream",
     "text": [
      "\n",
      "\n",
      "_________________________________________________________\n",
      "\n",
      "\n",
      "Atributo: oldpeak\n",
      "Média Simples:  1.0396039603960396\n",
      "Mediana:  0.8\n",
      "Moda - Elemento:  0.0\n",
      "Moda - Frequência:  99\n",
      "_________________________________________________________\n",
      "Primeiro quartil:  0.0\n",
      "Segundo quartil:  0.8\n",
      "Terceiro quartil:  1.6\n",
      "Intervalo iterquartílico:  1.6\n",
      "Variância:  1.3480952068716805\n",
      "Desvio Padrão:  1.1610750220686348\n",
      "Limite Inferior: -2.4000000000000004\n",
      "Outliers Inferior\n",
      "Series([], Name: oldpeak, dtype: float64)\n",
      "Limite Superior: 4.0\n",
      "Outliers Superiores\n",
      "101    4.2\n",
      "204    6.2\n",
      "220    4.0\n",
      "221    5.6\n",
      "223    4.0\n",
      "250    4.2\n",
      "291    4.4\n",
      "295    4.0\n",
      "Name: oldpeak, dtype: float64\n"
     ]
    },
    {
     "data": {
      "image/png": "[encoded data removed]",
      "text/plain": [
       "<Figure size 432x288 with 1 Axes>"
      ]
     },
     "metadata": {
      "needs_background": "light"
     },
     "output_type": "display_data"
    },
    {
     "name": "stdout",
     "output_type": "stream",
     "text": [
      "\n",
      "\n",
      "_________________________________________________________\n",
      "\n",
      "\n",
      "Atributo: slope\n",
      "Média Simples:  1.3993399339933994\n",
      "Mediana:  1.0\n",
      "Moda - Elemento:  2\n",
      "Moda - Frequência:  142\n",
      "_________________________________________________________\n",
      "Primeiro quartil:  1.0\n",
      "Segundo quartil:  1.0\n",
      "Terceiro quartil:  2.0\n",
      "Intervalo iterquartílico:  1.0\n",
      "Variância:  0.37973466220794255\n",
      "Desvio Padrão:  0.6162261453459619\n",
      "Limite Inferior: -0.5\n",
      "Outliers Inferior\n",
      "Series([], Name: slope, dtype: int64)\n",
      "Limite Superior: 3.5\n",
      "Outliers Superiores\n",
      "Series([], Name: slope, dtype: int64)\n"
     ]
    },
    {
     "data": {
      "image/png": "[encoded data removed]",
      "text/plain": [
       "<Figure size 432x288 with 1 Axes>"
      ]
     },
     "metadata": {
      "needs_background": "light"
     },
     "output_type": "display_data"
    },
    {
     "name": "stdout",
     "output_type": "stream",
     "text": [
      "\n",
      "\n",
      "_________________________________________________________\n",
      "\n",
      "\n",
      "Atributo: num_major_vessels\n",
      "Média Simples:  0.7293729372937293\n",
      "Mediana:  0.0\n",
      "Moda - Elemento:  0\n",
      "Moda - Frequência:  175\n",
      "_________________________________________________________\n",
      "Primeiro quartil:  0.0\n",
      "Segundo quartil:  0.0\n",
      "Terceiro quartil:  1.0\n",
      "Intervalo iterquartílico:  1.0\n",
      "Variância:  1.0457237776757808\n",
      "Desvio Padrão:  1.022606364969327\n",
      "Limite Inferior: -1.5\n",
      "Outliers Inferior\n",
      "Series([], Name: num_major_vessels, dtype: int64)\n",
      "Limite Superior: 2.5\n",
      "Outliers Superiores\n",
      "52     3\n",
      "92     4\n",
      "97     3\n",
      "99     3\n",
      "158    4\n",
      "163    4\n",
      "164    4\n",
      "165    3\n",
      "181    3\n",
      "191    3\n",
      "204    3\n",
      "208    3\n",
      "217    3\n",
      "220    3\n",
      "231    3\n",
      "234    3\n",
      "238    3\n",
      "247    3\n",
      "249    3\n",
      "250    3\n",
      "251    4\n",
      "252    3\n",
      "255    3\n",
      "267    3\n",
      "291    3\n",
      "Name: num_major_vessels, dtype: int64\n"
     ]
    },
    {
     "data": {
      "image/png": "[encoded data removed]",
      "text/plain": [
       "<Figure size 432x288 with 1 Axes>"
      ]
     },
     "metadata": {
      "needs_background": "light"
     },
     "output_type": "display_data"
    },
    {
     "name": "stdout",
     "output_type": "stream",
     "text": [
      "\n",
      "\n",
      "_________________________________________________________\n",
      "\n",
      "\n",
      "Atributo: thal\n",
      "Média Simples:  2.3135313531353137\n",
      "Mediana:  2.0\n",
      "Moda - Elemento:  2\n",
      "Moda - Frequência:  166\n",
      "_________________________________________________________\n",
      "Primeiro quartil:  2.0\n",
      "Segundo quartil:  2.0\n",
      "Terceiro quartil:  3.0\n",
      "Intervalo iterquartílico:  1.0\n",
      "Variância:  0.37488252136471933\n",
      "Desvio Padrão:  0.6122765072781409\n",
      "Limite Inferior: 0.5\n",
      "Outliers Inferior\n",
      "48     0\n",
      "281    0\n",
      "Name: thal, dtype: int64\n",
      "Limite Superior: 4.5\n",
      "Outliers Superiores\n",
      "Series([], Name: thal, dtype: int64)\n"
     ]
    },
    {
     "data": {
      "image/png": "[encoded data removed]",
      "text/plain": [
       "<Figure size 432x288 with 1 Axes>"
      ]
     },
     "metadata": {
      "needs_background": "light"
     },
     "output_type": "display_data"
    },
    {
     "name": "stdout",
     "output_type": "stream",
     "text": [
      "\n",
      "\n",
      "_________________________________________________________\n",
      "\n",
      "\n",
      "Atributo: target\n",
      "Média Simples:  0.5445544554455446\n",
      "Mediana:  1.0\n",
      "Moda - Elemento:  1\n",
      "Moda - Frequência:  165\n",
      "_________________________________________________________\n",
      "Primeiro quartil:  0.0\n",
      "Segundo quartil:  1.0\n",
      "Terceiro quartil:  1.0\n",
      "Intervalo iterquartílico:  1.0\n",
      "Variância:  0.24883614189233488\n",
      "Desvio Padrão:  0.4988347841643913\n",
      "Limite Inferior: -1.5\n",
      "Outliers Inferior\n",
      "Series([], Name: target, dtype: int64)\n",
      "Limite Superior: 2.5\n",
      "Outliers Superiores\n",
      "Series([], Name: target, dtype: int64)\n"
     ]
    },
    {
     "data": {
      "image/png": "[encoded data removed]",
      "text/plain": [
       "<Figure size 432x288 with 1 Axes>"
      ]
     },
     "metadata": {
      "needs_background": "light"
     },
     "output_type": "display_data"
    },
    {
     "name": "stdout",
     "output_type": "stream",
     "text": [
      "\n",
      "\n",
      "_________________________________________________________\n",
      "\n",
      "\n"
     ]
    }
   ],
   "source": [
    "\n",
    "for atributo, tipo in zip(df.columns, df.dtypes):\n",
    "    #selecionando só os atributos numéricos e sem selecionar o id\n",
    "    if tipo == 'int64' or tipo == 'float64':\n",
    "     \n",
    "        # Média Simples\n",
    "        mediaSimples = np.mean(df[atributo])\n",
    "\n",
    "        # Média Ponderada\n",
    "        if atributo == 'Attack':\n",
    "            mediaPonderada = np.average(df[atributo],weights=df['Sp. Atk'])\n",
    "\n",
    "        # Média Ponderada\n",
    "        if atributo == 'Defense':\n",
    "            mediaPonderada = np.average(df[atributo],weights=df['Sp. Def'])\n",
    "\n",
    "        # Mediana\n",
    "        mediana = np.median(df[atributo])\n",
    "\n",
    "        # Moda\n",
    "        Moda = stats.mode(df[atributo],keepdims=True)\n",
    "\n",
    "\n",
    "        Q1df = df[atributo].quantile(.25)\n",
    "        Q2df = df[atributo].quantile(.5)\n",
    "        Q3df = df[atributo].quantile(.75)\n",
    "        IQR=Q3df - Q1df\n",
    "        # Limite Inferior\n",
    "        Inferior = Q1df-1.5*IQR\n",
    "       \n",
    "\n",
    "        # Outliers - Inferior\n",
    "        outlierInf = df.loc[df[atributo]<= Inferior]\n",
    "        indicesOutlierInf = outlierInf.index  \n",
    "\n",
    "\n",
    "        # Limite Superior\n",
    "        Superior = Q3df+1.5*IQR\n",
    "       \n",
    "\n",
    "        # Outliers - Superior\n",
    "        outlierSup = df.loc[df[atributo]>= Superior]\n",
    "        indicesOutlierSup = outlierSup.index  \n",
    "        variancia = df[atributo].var()\n",
    "        desvio = df[atributo].std()\n",
    "\n",
    "        \n",
    "\n",
    "      \n",
    "       \n",
    "        print('Atributo: '+ atributo)\n",
    "        print('Média Simples: ',mediaSimples)\n",
    "        if atributo=='Attack' or atributo=='Defense':\n",
    "            print('Média Ponderada: ',mediaPonderada)\n",
    "        print('Mediana: ',mediana)\n",
    "        print('Moda - Elemento: ',Moda[0][0])\n",
    "        print('Moda - Frequência: ',Moda[1][0])\n",
    "        print(\"_________________________________________________________\")\n",
    "\n",
    "        print('Primeiro quartil: ',Q1df)\n",
    "        print('Segundo quartil: ',Q2df)\n",
    "        print('Terceiro quartil: ',Q3df)\n",
    "        print('Intervalo iterquartílico: ',IQR)\n",
    "        print('Variância: ',variancia)\n",
    "        print('Desvio Padrão: ',desvio)\n",
    "        print(\"Limite Inferior:\",Inferior)\n",
    "        print('Outliers Inferior')\n",
    "        print(df[atributo].loc[indicesOutlierInf])\n",
    "        print(\"Limite Superior:\",Superior)\n",
    "        print('Outliers Superiores')\n",
    "        print(df[atributo].loc[indicesOutlierSup]) \n",
    "       \n",
    "        \n",
    "        df.boxplot(column=[atributo])\n",
    "        plt.title(f'Boxplot de {atributo}')\n",
    "        plt.show() \n",
    "\n",
    "        \n",
    "        print(\"\\n\\n_________________________________________________________\\n\\n\")\n",
    "\n",
    "\n"
   ]
  },
  {
   "cell_type": "markdown",
   "metadata": {},
   "source": [
    "## Remoção ou não dos outliners\n",
    "\n",
    "Manter os outliers na análise de dados de doenças cardíacas é crucial, pois esses valores extremos representam condições clínicas raras e severas que são vitais para o diagnóstico e tratamento. Remover outliers pode levar à perda de informações cruciais, portanto, sua inclusão garante uma análise mais completa e precisa. "
   ]
  },
  {
   "cell_type": "markdown",
   "metadata": {},
   "source": [
    "## Verificação se existem dados duplicados. "
   ]
  },
  {
   "cell_type": "code",
   "execution_count": 33,
   "metadata": {},
   "outputs": [
    {
     "name": "stdout",
     "output_type": "stream",
     "text": [
      "Existem 1 dados duplicados.\n"
     ]
    }
   ],
   "source": [
    "# Verificar dados duplicados\n",
    "dados_duplicados = df.duplicated().sum()\n",
    "if dados_duplicados:\n",
    "    print(f\"Existem {dados_duplicados} dados duplicados.\")\n",
    "else:\n",
    "    print(\"Não existem dados duplicados.\")"
   ]
  },
  {
   "cell_type": "markdown",
   "metadata": {},
   "source": [
    "## Remoção de dados duplicados. "
   ]
  },
  {
   "cell_type": "code",
   "execution_count": 34,
   "metadata": {},
   "outputs": [],
   "source": [
    "df_dupicated = df.drop_duplicates()\n",
    "df = df.drop_duplicates()"
   ]
  },
  {
   "cell_type": "markdown",
   "metadata": {},
   "source": [
    "## Por que o uso de dados padronizados?\n",
    "\n",
    "Padronizar os dados para aplicação no algoritmo K-means é fundamental para assegurar que todas as variáveis tenham média zero e desvio padrão unitário. Isso é crucial porque o K-means utiliza distâncias euclidianas para determinar a similaridade entre pontos de dados e centróides de cluster. "
   ]
  },
  {
   "cell_type": "markdown",
   "metadata": {},
   "source": [
    "## Dados padronizados \n"
   ]
  },
  {
   "cell_type": "code",
   "execution_count": 37,
   "metadata": {},
   "outputs": [
    {
     "data": {
      "text/html": [
       "<div>\n",
       "<style scoped>\n",
       "    .dataframe tbody tr th:only-of-type {\n",
       "        vertical-align: middle;\n",
       "    }\n",
       "\n",
       "    .dataframe tbody tr th {\n",
       "        vertical-align: top;\n",
       "    }\n",
       "\n",
       "    .dataframe thead th {\n",
       "        text-align: right;\n",
       "    }\n",
       "</style>\n",
       "<table border=\"1\" class=\"dataframe\">\n",
       "  <thead>\n",
       "    <tr style=\"text-align: right;\">\n",
       "      <th></th>\n",
       "      <th>age</th>\n",
       "      <th>sex</th>\n",
       "      <th>chest_pain_type</th>\n",
       "      <th>resting_bp</th>\n",
       "      <th>cholestoral</th>\n",
       "      <th>fasting_blood_sugar</th>\n",
       "      <th>restecg</th>\n",
       "      <th>max_hr</th>\n",
       "      <th>exang</th>\n",
       "      <th>oldpeak</th>\n",
       "      <th>slope</th>\n",
       "      <th>num_major_vessels</th>\n",
       "      <th>thal</th>\n",
       "      <th>target</th>\n",
       "    </tr>\n",
       "  </thead>\n",
       "  <tbody>\n",
       "    <tr>\n",
       "      <th>0</th>\n",
       "      <td>0.949794</td>\n",
       "      <td>0.682656</td>\n",
       "      <td>1.976470</td>\n",
       "      <td>0.764066</td>\n",
       "      <td>-0.261285</td>\n",
       "      <td>2.389793</td>\n",
       "      <td>-1.002541</td>\n",
       "      <td>0.018826</td>\n",
       "      <td>-0.698344</td>\n",
       "      <td>2.3</td>\n",
       "      <td>-2.271182</td>\n",
       "      <td>-0.714911</td>\n",
       "      <td>-2.147955</td>\n",
       "      <td>1</td>\n",
       "    </tr>\n",
       "    <tr>\n",
       "      <th>1</th>\n",
       "      <td>-1.928548</td>\n",
       "      <td>0.682656</td>\n",
       "      <td>1.005911</td>\n",
       "      <td>-0.091401</td>\n",
       "      <td>0.067741</td>\n",
       "      <td>-0.418446</td>\n",
       "      <td>0.901657</td>\n",
       "      <td>1.636979</td>\n",
       "      <td>-0.698344</td>\n",
       "      <td>3.5</td>\n",
       "      <td>-2.271182</td>\n",
       "      <td>-0.714911</td>\n",
       "      <td>-0.513994</td>\n",
       "      <td>1</td>\n",
       "    </tr>\n",
       "    <tr>\n",
       "      <th>2</th>\n",
       "      <td>-1.485726</td>\n",
       "      <td>-1.464866</td>\n",
       "      <td>0.035352</td>\n",
       "      <td>-0.091401</td>\n",
       "      <td>-0.822564</td>\n",
       "      <td>-0.418446</td>\n",
       "      <td>-1.002541</td>\n",
       "      <td>0.980971</td>\n",
       "      <td>-0.698344</td>\n",
       "      <td>1.4</td>\n",
       "      <td>0.979514</td>\n",
       "      <td>-0.714911</td>\n",
       "      <td>-0.513994</td>\n",
       "      <td>1</td>\n",
       "    </tr>\n",
       "    <tr>\n",
       "      <th>3</th>\n",
       "      <td>0.174856</td>\n",
       "      <td>0.682656</td>\n",
       "      <td>0.035352</td>\n",
       "      <td>-0.661712</td>\n",
       "      <td>-0.203222</td>\n",
       "      <td>-0.418446</td>\n",
       "      <td>0.901657</td>\n",
       "      <td>1.243374</td>\n",
       "      <td>-0.698344</td>\n",
       "      <td>0.8</td>\n",
       "      <td>0.979514</td>\n",
       "      <td>-0.714911</td>\n",
       "      <td>-0.513994</td>\n",
       "      <td>1</td>\n",
       "    </tr>\n",
       "    <tr>\n",
       "      <th>4</th>\n",
       "      <td>0.285561</td>\n",
       "      <td>-1.464866</td>\n",
       "      <td>-0.935208</td>\n",
       "      <td>-0.661712</td>\n",
       "      <td>2.080602</td>\n",
       "      <td>-0.418446</td>\n",
       "      <td>0.901657</td>\n",
       "      <td>0.587366</td>\n",
       "      <td>1.431958</td>\n",
       "      <td>0.6</td>\n",
       "      <td>0.979514</td>\n",
       "      <td>-0.714911</td>\n",
       "      <td>-0.513994</td>\n",
       "      <td>1</td>\n",
       "    </tr>\n",
       "  </tbody>\n",
       "</table>\n",
       "</div>"
      ],
      "text/plain": [
       "        age       sex  chest_pain_type  resting_bp  cholestoral  \\\n",
       "0  0.949794  0.682656         1.976470    0.764066    -0.261285   \n",
       "1 -1.928548  0.682656         1.005911   -0.091401     0.067741   \n",
       "2 -1.485726 -1.464866         0.035352   -0.091401    -0.822564   \n",
       "3  0.174856  0.682656         0.035352   -0.661712    -0.203222   \n",
       "4  0.285561 -1.464866        -0.935208   -0.661712     2.080602   \n",
       "\n",
       "   fasting_blood_sugar   restecg    max_hr     exang  oldpeak     slope  \\\n",
       "0             2.389793 -1.002541  0.018826 -0.698344      2.3 -2.271182   \n",
       "1            -0.418446  0.901657  1.636979 -0.698344      3.5 -2.271182   \n",
       "2            -0.418446 -1.002541  0.980971 -0.698344      1.4  0.979514   \n",
       "3            -0.418446  0.901657  1.243374 -0.698344      0.8  0.979514   \n",
       "4            -0.418446  0.901657  0.587366  1.431958      0.6  0.979514   \n",
       "\n",
       "   num_major_vessels      thal  target  \n",
       "0          -0.714911 -2.147955       1  \n",
       "1          -0.714911 -0.513994       1  \n",
       "2          -0.714911 -0.513994       1  \n",
       "3          -0.714911 -0.513994       1  \n",
       "4          -0.714911 -0.513994       1  "
      ]
     },
     "execution_count": 37,
     "metadata": {},
     "output_type": "execute_result"
    }
   ],
   "source": [
    "from sklearn.preprocessing import StandardScaler\n",
    "scaler = StandardScaler()\n",
    "df_padronizado = df.copy()\n",
    "for atributo, tipo in zip(df_padronizado.columns, df_padronizado.dtypes):\n",
    " \n",
    "    if (tipo == 'int64' or atributo =='float64') and atributo !='target':\n",
    " \n",
    "        df_padronizado[atributo] = scaler.fit_transform(df_padronizado[[atributo]])\n",
    "    else:\n",
    "        df_padronizado[atributo] = df_padronizado[atributo]\n",
    "        \n",
    "\n",
    "\n",
    "df_padronizado.head()"
   ]
  },
  {
   "cell_type": "markdown",
   "metadata": {},
   "source": [
    "## Carregamento após o processamento"
   ]
  },
  {
   "cell_type": "code",
   "execution_count": 36,
   "metadata": {},
   "outputs": [],
   "source": [
    "# Salvar o DataFrame como CSV\n",
    "df.to_csv('../Processados/heart_final.csv', index=False)\n",
    "df_padronizado.to_csv('../Processados/heart_padronizado_final.csv', index=False)"
   ]
  }
 ],
 "metadata": {
  "kernelspec": {
   "display_name": "Python 3",
   "language": "python",
   "name": "python3"
  },
  "language_info": {
   "codemirror_mode": {
    "name": "ipython",
    "version": 3
   },
   "file_extension": ".py",
   "mimetype": "text/x-python",
   "name": "python",
   "nbconvert_exporter": "python",
   "pygments_lexer": "ipython3",
   "version": "3.10.0"
  }
 },
 "nbformat": 4,
 "nbformat_minor": 2
}
